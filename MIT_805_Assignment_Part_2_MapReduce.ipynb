{
  "cells": [
    {
      "cell_type": "markdown",
      "metadata": {
        "id": "view-in-github",
        "colab_type": "text"
      },
      "source": [
        "<a href=\"https://colab.research.google.com/github/calebsiyasiya/MIT-805-Project/blob/main/MIT_805_Assignment_Part_2_MapReduce.ipynb\" target=\"_parent\"><img src=\"https://colab.research.google.com/assets/colab-badge.svg\" alt=\"Open In Colab\"/></a>"
      ]
    },
    {
      "cell_type": "markdown",
      "source": [
        "**Pre-Processing**"
      ],
      "metadata": {
        "id": "WKHYy2cZ26Mk"
      },
      "id": "WKHYy2cZ26Mk"
    },
    {
      "cell_type": "code",
      "source": [
        "import pandas as pd\n",
        "import numpy as np\n",
        "import matplotlib.pyplot as plt\n",
        "import seaborn as sns"
      ],
      "metadata": {
        "id": "kWaAQJhH5x5I"
      },
      "id": "kWaAQJhH5x5I",
      "execution_count": 1,
      "outputs": []
    },
    {
      "cell_type": "code",
      "source": [
        "#Mount Google drive where data is stored\n",
        "from google.colab import drive\n",
        "drive.mount('/content/drive')"
      ],
      "metadata": {
        "colab": {
          "base_uri": "https://localhost:8080/"
        },
        "id": "UbgWHB_o5x0Y",
        "outputId": "4cb964f3-22b4-41ec-cdeb-95879c735d2d"
      },
      "id": "UbgWHB_o5x0Y",
      "execution_count": 3,
      "outputs": [
        {
          "output_type": "stream",
          "name": "stdout",
          "text": [
            "Mounted at /content/drive\n"
          ]
        }
      ]
    },
    {
      "cell_type": "code",
      "source": [
        "csv_data = pd.read_csv('/content/drive/MyDrive/MIT 805 Semester Project/store_zara.csv')\n",
        "\n",
        "csv_data.head(3)"
      ],
      "metadata": {
        "colab": {
          "base_uri": "https://localhost:8080/",
          "height": 195
        },
        "id": "-F7aSYQj5xpp",
        "outputId": "2885ff6c-6f83-4cfe-b782-ccc76f4c90ba"
      },
      "id": "-F7aSYQj5xpp",
      "execution_count": 20,
      "outputs": [
        {
          "output_type": "execute_result",
          "data": {
            "text/plain": [
              "  brand                                                url               sku  \\\n",
              "0  Zara  https://www.zara.com/us/en/basic-puffer-jacket...   272145190-250-2   \n",
              "1  Zara  https://www.zara.com/us/en/tuxedo-jacket-p0889...  324052738-800-46   \n",
              "2  Zara  https://www.zara.com/us/en/slim-fit-suit-jacke...  335342680-800-44   \n",
              "\n",
              "                   name                                        description  \\\n",
              "0   BASIC PUFFER JACKET  Puffer jacket made of tear-resistant ripstop f...   \n",
              "1         TUXEDO JACKET  Straight fit blazer. Pointed lapel collar and ...   \n",
              "2  SLIM FIT SUIT JACKET  Slim fit jacket. Notched lapel collar. Long sl...   \n",
              "\n",
              "    price currency                                             images  \\\n",
              "0   19.99      USD  ['https://static.zara.net/photos///2023/I/0/2/...   \n",
              "1  169.00      USD  ['https://static.zara.net/photos///2024/V/0/1/...   \n",
              "2  129.00      USD  ['https://static.zara.net/photos///2023/I/0/2/...   \n",
              "\n",
              "                   scraped_at    terms section  error  \\\n",
              "0  2024-02-19T08:50:05.654618  jackets     MAN    NaN   \n",
              "1  2024-02-19T08:50:06.590930  jackets     MAN    NaN   \n",
              "2  2024-02-19T08:50:07.301419  jackets     MAN    NaN   \n",
              "\n",
              "                                     image_downloads  \n",
              "0  ['e8e4ae57-8b72-44ff-aa5d-84de3ed37d9e', '0cb3...  \n",
              "1  ['b42b0725-cfe2-4748-af3e-3abe590d83cd', 'ed9c...  \n",
              "2  ['c27bdddf-2f9c-4693-976f-0d1272212c12', '07e6...  "
            ],
            "text/html": [
              "\n",
              "  <div id=\"df-e8df0ccc-563f-4a3b-ab2c-4bc10eeae870\" class=\"colab-df-container\">\n",
              "    <div>\n",
              "<style scoped>\n",
              "    .dataframe tbody tr th:only-of-type {\n",
              "        vertical-align: middle;\n",
              "    }\n",
              "\n",
              "    .dataframe tbody tr th {\n",
              "        vertical-align: top;\n",
              "    }\n",
              "\n",
              "    .dataframe thead th {\n",
              "        text-align: right;\n",
              "    }\n",
              "</style>\n",
              "<table border=\"1\" class=\"dataframe\">\n",
              "  <thead>\n",
              "    <tr style=\"text-align: right;\">\n",
              "      <th></th>\n",
              "      <th>brand</th>\n",
              "      <th>url</th>\n",
              "      <th>sku</th>\n",
              "      <th>name</th>\n",
              "      <th>description</th>\n",
              "      <th>price</th>\n",
              "      <th>currency</th>\n",
              "      <th>images</th>\n",
              "      <th>scraped_at</th>\n",
              "      <th>terms</th>\n",
              "      <th>section</th>\n",
              "      <th>error</th>\n",
              "      <th>image_downloads</th>\n",
              "    </tr>\n",
              "  </thead>\n",
              "  <tbody>\n",
              "    <tr>\n",
              "      <th>0</th>\n",
              "      <td>Zara</td>\n",
              "      <td>https://www.zara.com/us/en/basic-puffer-jacket...</td>\n",
              "      <td>272145190-250-2</td>\n",
              "      <td>BASIC PUFFER JACKET</td>\n",
              "      <td>Puffer jacket made of tear-resistant ripstop f...</td>\n",
              "      <td>19.99</td>\n",
              "      <td>USD</td>\n",
              "      <td>['https://static.zara.net/photos///2023/I/0/2/...</td>\n",
              "      <td>2024-02-19T08:50:05.654618</td>\n",
              "      <td>jackets</td>\n",
              "      <td>MAN</td>\n",
              "      <td>NaN</td>\n",
              "      <td>['e8e4ae57-8b72-44ff-aa5d-84de3ed37d9e', '0cb3...</td>\n",
              "    </tr>\n",
              "    <tr>\n",
              "      <th>1</th>\n",
              "      <td>Zara</td>\n",
              "      <td>https://www.zara.com/us/en/tuxedo-jacket-p0889...</td>\n",
              "      <td>324052738-800-46</td>\n",
              "      <td>TUXEDO JACKET</td>\n",
              "      <td>Straight fit blazer. Pointed lapel collar and ...</td>\n",
              "      <td>169.00</td>\n",
              "      <td>USD</td>\n",
              "      <td>['https://static.zara.net/photos///2024/V/0/1/...</td>\n",
              "      <td>2024-02-19T08:50:06.590930</td>\n",
              "      <td>jackets</td>\n",
              "      <td>MAN</td>\n",
              "      <td>NaN</td>\n",
              "      <td>['b42b0725-cfe2-4748-af3e-3abe590d83cd', 'ed9c...</td>\n",
              "    </tr>\n",
              "    <tr>\n",
              "      <th>2</th>\n",
              "      <td>Zara</td>\n",
              "      <td>https://www.zara.com/us/en/slim-fit-suit-jacke...</td>\n",
              "      <td>335342680-800-44</td>\n",
              "      <td>SLIM FIT SUIT JACKET</td>\n",
              "      <td>Slim fit jacket. Notched lapel collar. Long sl...</td>\n",
              "      <td>129.00</td>\n",
              "      <td>USD</td>\n",
              "      <td>['https://static.zara.net/photos///2023/I/0/2/...</td>\n",
              "      <td>2024-02-19T08:50:07.301419</td>\n",
              "      <td>jackets</td>\n",
              "      <td>MAN</td>\n",
              "      <td>NaN</td>\n",
              "      <td>['c27bdddf-2f9c-4693-976f-0d1272212c12', '07e6...</td>\n",
              "    </tr>\n",
              "  </tbody>\n",
              "</table>\n",
              "</div>\n",
              "    <div class=\"colab-df-buttons\">\n",
              "\n",
              "  <div class=\"colab-df-container\">\n",
              "    <button class=\"colab-df-convert\" onclick=\"convertToInteractive('df-e8df0ccc-563f-4a3b-ab2c-4bc10eeae870')\"\n",
              "            title=\"Convert this dataframe to an interactive table.\"\n",
              "            style=\"display:none;\">\n",
              "\n",
              "  <svg xmlns=\"http://www.w3.org/2000/svg\" height=\"24px\" viewBox=\"0 -960 960 960\">\n",
              "    <path d=\"M120-120v-720h720v720H120Zm60-500h600v-160H180v160Zm220 220h160v-160H400v160Zm0 220h160v-160H400v160ZM180-400h160v-160H180v160Zm440 0h160v-160H620v160ZM180-180h160v-160H180v160Zm440 0h160v-160H620v160Z\"/>\n",
              "  </svg>\n",
              "    </button>\n",
              "\n",
              "  <style>\n",
              "    .colab-df-container {\n",
              "      display:flex;\n",
              "      gap: 12px;\n",
              "    }\n",
              "\n",
              "    .colab-df-convert {\n",
              "      background-color: #E8F0FE;\n",
              "      border: none;\n",
              "      border-radius: 50%;\n",
              "      cursor: pointer;\n",
              "      display: none;\n",
              "      fill: #1967D2;\n",
              "      height: 32px;\n",
              "      padding: 0 0 0 0;\n",
              "      width: 32px;\n",
              "    }\n",
              "\n",
              "    .colab-df-convert:hover {\n",
              "      background-color: #E2EBFA;\n",
              "      box-shadow: 0px 1px 2px rgba(60, 64, 67, 0.3), 0px 1px 3px 1px rgba(60, 64, 67, 0.15);\n",
              "      fill: #174EA6;\n",
              "    }\n",
              "\n",
              "    .colab-df-buttons div {\n",
              "      margin-bottom: 4px;\n",
              "    }\n",
              "\n",
              "    [theme=dark] .colab-df-convert {\n",
              "      background-color: #3B4455;\n",
              "      fill: #D2E3FC;\n",
              "    }\n",
              "\n",
              "    [theme=dark] .colab-df-convert:hover {\n",
              "      background-color: #434B5C;\n",
              "      box-shadow: 0px 1px 3px 1px rgba(0, 0, 0, 0.15);\n",
              "      filter: drop-shadow(0px 1px 2px rgba(0, 0, 0, 0.3));\n",
              "      fill: #FFFFFF;\n",
              "    }\n",
              "  </style>\n",
              "\n",
              "    <script>\n",
              "      const buttonEl =\n",
              "        document.querySelector('#df-e8df0ccc-563f-4a3b-ab2c-4bc10eeae870 button.colab-df-convert');\n",
              "      buttonEl.style.display =\n",
              "        google.colab.kernel.accessAllowed ? 'block' : 'none';\n",
              "\n",
              "      async function convertToInteractive(key) {\n",
              "        const element = document.querySelector('#df-e8df0ccc-563f-4a3b-ab2c-4bc10eeae870');\n",
              "        const dataTable =\n",
              "          await google.colab.kernel.invokeFunction('convertToInteractive',\n",
              "                                                    [key], {});\n",
              "        if (!dataTable) return;\n",
              "\n",
              "        const docLinkHtml = 'Like what you see? Visit the ' +\n",
              "          '<a target=\"_blank\" href=https://colab.research.google.com/notebooks/data_table.ipynb>data table notebook</a>'\n",
              "          + ' to learn more about interactive tables.';\n",
              "        element.innerHTML = '';\n",
              "        dataTable['output_type'] = 'display_data';\n",
              "        await google.colab.output.renderOutput(dataTable, element);\n",
              "        const docLink = document.createElement('div');\n",
              "        docLink.innerHTML = docLinkHtml;\n",
              "        element.appendChild(docLink);\n",
              "      }\n",
              "    </script>\n",
              "  </div>\n",
              "\n",
              "\n",
              "<div id=\"df-1c64f363-494b-46a5-ac82-170663488ff4\">\n",
              "  <button class=\"colab-df-quickchart\" onclick=\"quickchart('df-1c64f363-494b-46a5-ac82-170663488ff4')\"\n",
              "            title=\"Suggest charts\"\n",
              "            style=\"display:none;\">\n",
              "\n",
              "<svg xmlns=\"http://www.w3.org/2000/svg\" height=\"24px\"viewBox=\"0 0 24 24\"\n",
              "     width=\"24px\">\n",
              "    <g>\n",
              "        <path d=\"M19 3H5c-1.1 0-2 .9-2 2v14c0 1.1.9 2 2 2h14c1.1 0 2-.9 2-2V5c0-1.1-.9-2-2-2zM9 17H7v-7h2v7zm4 0h-2V7h2v10zm4 0h-2v-4h2v4z\"/>\n",
              "    </g>\n",
              "</svg>\n",
              "  </button>\n",
              "\n",
              "<style>\n",
              "  .colab-df-quickchart {\n",
              "      --bg-color: #E8F0FE;\n",
              "      --fill-color: #1967D2;\n",
              "      --hover-bg-color: #E2EBFA;\n",
              "      --hover-fill-color: #174EA6;\n",
              "      --disabled-fill-color: #AAA;\n",
              "      --disabled-bg-color: #DDD;\n",
              "  }\n",
              "\n",
              "  [theme=dark] .colab-df-quickchart {\n",
              "      --bg-color: #3B4455;\n",
              "      --fill-color: #D2E3FC;\n",
              "      --hover-bg-color: #434B5C;\n",
              "      --hover-fill-color: #FFFFFF;\n",
              "      --disabled-bg-color: #3B4455;\n",
              "      --disabled-fill-color: #666;\n",
              "  }\n",
              "\n",
              "  .colab-df-quickchart {\n",
              "    background-color: var(--bg-color);\n",
              "    border: none;\n",
              "    border-radius: 50%;\n",
              "    cursor: pointer;\n",
              "    display: none;\n",
              "    fill: var(--fill-color);\n",
              "    height: 32px;\n",
              "    padding: 0;\n",
              "    width: 32px;\n",
              "  }\n",
              "\n",
              "  .colab-df-quickchart:hover {\n",
              "    background-color: var(--hover-bg-color);\n",
              "    box-shadow: 0 1px 2px rgba(60, 64, 67, 0.3), 0 1px 3px 1px rgba(60, 64, 67, 0.15);\n",
              "    fill: var(--button-hover-fill-color);\n",
              "  }\n",
              "\n",
              "  .colab-df-quickchart-complete:disabled,\n",
              "  .colab-df-quickchart-complete:disabled:hover {\n",
              "    background-color: var(--disabled-bg-color);\n",
              "    fill: var(--disabled-fill-color);\n",
              "    box-shadow: none;\n",
              "  }\n",
              "\n",
              "  .colab-df-spinner {\n",
              "    border: 2px solid var(--fill-color);\n",
              "    border-color: transparent;\n",
              "    border-bottom-color: var(--fill-color);\n",
              "    animation:\n",
              "      spin 1s steps(1) infinite;\n",
              "  }\n",
              "\n",
              "  @keyframes spin {\n",
              "    0% {\n",
              "      border-color: transparent;\n",
              "      border-bottom-color: var(--fill-color);\n",
              "      border-left-color: var(--fill-color);\n",
              "    }\n",
              "    20% {\n",
              "      border-color: transparent;\n",
              "      border-left-color: var(--fill-color);\n",
              "      border-top-color: var(--fill-color);\n",
              "    }\n",
              "    30% {\n",
              "      border-color: transparent;\n",
              "      border-left-color: var(--fill-color);\n",
              "      border-top-color: var(--fill-color);\n",
              "      border-right-color: var(--fill-color);\n",
              "    }\n",
              "    40% {\n",
              "      border-color: transparent;\n",
              "      border-right-color: var(--fill-color);\n",
              "      border-top-color: var(--fill-color);\n",
              "    }\n",
              "    60% {\n",
              "      border-color: transparent;\n",
              "      border-right-color: var(--fill-color);\n",
              "    }\n",
              "    80% {\n",
              "      border-color: transparent;\n",
              "      border-right-color: var(--fill-color);\n",
              "      border-bottom-color: var(--fill-color);\n",
              "    }\n",
              "    90% {\n",
              "      border-color: transparent;\n",
              "      border-bottom-color: var(--fill-color);\n",
              "    }\n",
              "  }\n",
              "</style>\n",
              "\n",
              "  <script>\n",
              "    async function quickchart(key) {\n",
              "      const quickchartButtonEl =\n",
              "        document.querySelector('#' + key + ' button');\n",
              "      quickchartButtonEl.disabled = true;  // To prevent multiple clicks.\n",
              "      quickchartButtonEl.classList.add('colab-df-spinner');\n",
              "      try {\n",
              "        const charts = await google.colab.kernel.invokeFunction(\n",
              "            'suggestCharts', [key], {});\n",
              "      } catch (error) {\n",
              "        console.error('Error during call to suggestCharts:', error);\n",
              "      }\n",
              "      quickchartButtonEl.classList.remove('colab-df-spinner');\n",
              "      quickchartButtonEl.classList.add('colab-df-quickchart-complete');\n",
              "    }\n",
              "    (() => {\n",
              "      let quickchartButtonEl =\n",
              "        document.querySelector('#df-1c64f363-494b-46a5-ac82-170663488ff4 button');\n",
              "      quickchartButtonEl.style.display =\n",
              "        google.colab.kernel.accessAllowed ? 'block' : 'none';\n",
              "    })();\n",
              "  </script>\n",
              "</div>\n",
              "\n",
              "    </div>\n",
              "  </div>\n"
            ],
            "application/vnd.google.colaboratory.intrinsic+json": {
              "type": "dataframe",
              "variable_name": "csv_data",
              "summary": "{\n  \"name\": \"csv_data\",\n  \"rows\": 3129,\n  \"fields\": [\n    {\n      \"column\": \"brand\",\n      \"properties\": {\n        \"dtype\": \"category\",\n        \"num_unique_values\": 1,\n        \"samples\": [\n          \"Zara\"\n        ],\n        \"semantic_type\": \"\",\n        \"description\": \"\"\n      }\n    },\n    {\n      \"column\": \"url\",\n      \"properties\": {\n        \"dtype\": \"string\",\n        \"num_unique_values\": 3129,\n        \"samples\": [\n          \"https://www.zara.com/us/en/flat-suede-clogs--buckled-back-strap--rounded-toe---br---br--sole-height--1-inch--2-5-cm--p13506310.html\"\n        ],\n        \"semantic_type\": \"\",\n        \"description\": \"\"\n      }\n    },\n    {\n      \"column\": \"sku\",\n      \"properties\": {\n        \"dtype\": \"string\",\n        \"num_unique_values\": 3129,\n        \"samples\": [\n          \"312659333-709-35\"\n        ],\n        \"semantic_type\": \"\",\n        \"description\": \"\"\n      }\n    },\n    {\n      \"column\": \"name\",\n      \"properties\": {\n        \"dtype\": \"string\",\n        \"num_unique_values\": 2527,\n        \"samples\": [\n          \"ZW COLLECTION STRIPED OXFORD SHIRT\"\n        ],\n        \"semantic_type\": \"\",\n        \"description\": \"\"\n      }\n    },\n    {\n      \"column\": \"description\",\n      \"properties\": {\n        \"dtype\": \"string\",\n        \"num_unique_values\": 2864,\n        \"samples\": [\n          \"REGULAR FIT - ROUND NECK - REGULAR LENGTH - SHORT SLEEVE\\n\\nRound neck short sleeve sweater.\"\n        ],\n        \"semantic_type\": \"\",\n        \"description\": \"\"\n      }\n    },\n    {\n      \"column\": \"price\",\n      \"properties\": {\n        \"dtype\": \"number\",\n        \"std\": 49.49263508172601,\n        \"min\": 1.99,\n        \"max\": 869.0,\n        \"num_unique_values\": 61,\n        \"samples\": [\n          19.99\n        ],\n        \"semantic_type\": \"\",\n        \"description\": \"\"\n      }\n    },\n    {\n      \"column\": \"currency\",\n      \"properties\": {\n        \"dtype\": \"category\",\n        \"num_unique_values\": 1,\n        \"samples\": [\n          \"USD\"\n        ],\n        \"semantic_type\": \"\",\n        \"description\": \"\"\n      }\n    },\n    {\n      \"column\": \"images\",\n      \"properties\": {\n        \"dtype\": \"string\",\n        \"num_unique_values\": 3128,\n        \"samples\": [\n          \"['https://static.zara.net/photos///2024/V/1/1/p/3506/310/709/2/w/1920/3506310709_1_1_1.jpg?ts=1707478174898', 'https://static.zara.net/photos///2024/V/1/1/p/3506/310/709/2/w/1920/3506310709_2_1_1.jpg?ts=1707478175023', 'https://static.zara.net/photos///2024/V/1/1/p/3506/310/709/2/w/1920/3506310709_6_1_1.jpg?ts=1707214846449', 'https://static.zara.net/photos///2024/V/1/1/p/3506/310/709/2/w/1920/3506310709_6_2_1.jpg?ts=1707214846652', 'https://static.zara.net/photos///2024/V/1/1/p/3506/310/709/2/w/1920/3506310709_6_3_1.jpg?ts=1707214846765', 'https://static.zara.net/photos///2024/V/1/1/p/3506/310/709/2/w/1920/3506310709_6_4_1.jpg?ts=1707214846767', 'https://static.zara.net/photos///2024/V/1/1/p/3506/310/709/2/w/1920/3506310709_6_5_1.jpg?ts=1707214846719']\"\n        ],\n        \"semantic_type\": \"\",\n        \"description\": \"\"\n      }\n    },\n    {\n      \"column\": \"scraped_at\",\n      \"properties\": {\n        \"dtype\": \"object\",\n        \"num_unique_values\": 3129,\n        \"samples\": [\n          \"2024-02-19T09:22:15.306604\"\n        ],\n        \"semantic_type\": \"\",\n        \"description\": \"\"\n      }\n    },\n    {\n      \"column\": \"terms\",\n      \"properties\": {\n        \"dtype\": \"category\",\n        \"num_unique_values\": 23,\n        \"samples\": [\n          \"coats\"\n        ],\n        \"semantic_type\": \"\",\n        \"description\": \"\"\n      }\n    },\n    {\n      \"column\": \"section\",\n      \"properties\": {\n        \"dtype\": \"category\",\n        \"num_unique_values\": 2,\n        \"samples\": [\n          \"WOMAN\"\n        ],\n        \"semantic_type\": \"\",\n        \"description\": \"\"\n      }\n    },\n    {\n      \"column\": \"error\",\n      \"properties\": {\n        \"dtype\": \"number\",\n        \"std\": null,\n        \"min\": null,\n        \"max\": null,\n        \"num_unique_values\": 0,\n        \"samples\": [],\n        \"semantic_type\": \"\",\n        \"description\": \"\"\n      }\n    },\n    {\n      \"column\": \"image_downloads\",\n      \"properties\": {\n        \"dtype\": \"string\",\n        \"num_unique_values\": 3129,\n        \"samples\": [],\n        \"semantic_type\": \"\",\n        \"description\": \"\"\n      }\n    }\n  ]\n}"
            }
          },
          "metadata": {},
          "execution_count": 20
        }
      ]
    },
    {
      "cell_type": "code",
      "source": [
        "#Remove columns that won't be used in analysis\n",
        "csv_data = csv_data.drop(columns=['brand','url','scraped_at','error','images'],axis=1)"
      ],
      "metadata": {
        "id": "ctq71p2Z5xAS"
      },
      "id": "ctq71p2Z5xAS",
      "execution_count": 21,
      "outputs": []
    },
    {
      "cell_type": "code",
      "source": [
        "#Check info about data set\n",
        "csv_data.info()"
      ],
      "metadata": {
        "colab": {
          "base_uri": "https://localhost:8080/"
        },
        "id": "AX9ukQEW5w4w",
        "outputId": "d49a5792-23a2-4604-d856-20fa4212ee7b"
      },
      "id": "AX9ukQEW5w4w",
      "execution_count": 22,
      "outputs": [
        {
          "output_type": "stream",
          "name": "stdout",
          "text": [
            "<class 'pandas.core.frame.DataFrame'>\n",
            "RangeIndex: 3129 entries, 0 to 3128\n",
            "Data columns (total 8 columns):\n",
            " #   Column           Non-Null Count  Dtype  \n",
            "---  ------           --------------  -----  \n",
            " 0   sku              3129 non-null   object \n",
            " 1   name             3065 non-null   object \n",
            " 2   description      3059 non-null   object \n",
            " 3   price            3129 non-null   float64\n",
            " 4   currency         3129 non-null   object \n",
            " 5   terms            3129 non-null   object \n",
            " 6   section          3129 non-null   object \n",
            " 7   image_downloads  3129 non-null   object \n",
            "dtypes: float64(1), object(7)\n",
            "memory usage: 195.7+ KB\n"
          ]
        }
      ]
    },
    {
      "cell_type": "code",
      "source": [
        "#Some columns have ull values. Check rows with null values\n",
        "csv_data[csv_data['name'].isnull()]"
      ],
      "metadata": {
        "colab": {
          "base_uri": "https://localhost:8080/",
          "height": 423
        },
        "id": "p33cxefF5wCD",
        "outputId": "30f59fd2-bb3a-4736-8060-4cc7fd3085b3"
      },
      "id": "p33cxefF5wCD",
      "execution_count": 23,
      "outputs": [
        {
          "output_type": "execute_result",
          "data": {
            "text/plain": [
              "                   sku name description  price currency    terms section  \\\n",
              "81     336378923-700-2  NaN         NaN  129.0      USD  jackets     MAN   \n",
              "146    330734744-800-2  NaN         NaN  129.0      USD  jackets     MAN   \n",
              "256    329893545-800-2  NaN         NaN   69.9      USD    pants     MAN   \n",
              "272    335677693-800-2  NaN         NaN   49.9      USD    pants     MAN   \n",
              "273    326561477-826-2  NaN         NaN   49.9      USD    pants     MAN   \n",
              "...                ...  ...         ...    ...      ...      ...     ...   \n",
              "2657  320060926-807-35  NaN         NaN   49.9      USD    shoes   WOMAN   \n",
              "3028   331694122-800-1  NaN         NaN   45.9      USD    coats   WOMAN   \n",
              "3116  342922122-999-99  NaN         NaN   35.9      USD     bags   WOMAN   \n",
              "3117   336468928-303-3  NaN         NaN   17.9      USD     bags   WOMAN   \n",
              "3127  326448329-999-99  NaN         NaN   27.9      USD     bags   WOMAN   \n",
              "\n",
              "                                        image_downloads  \n",
              "81    ['7783d9a4-9913-4ac1-acb3-7b8d64ef1ac7', 'dc7e...  \n",
              "146   ['85e083c5-226c-4b18-a64a-39f931db9a71', 'f786...  \n",
              "256   ['ca24a94e-c14b-4584-b5d3-a3b2295384ae', '0258...  \n",
              "272   ['a75c7489-327a-408b-a904-9ba4d5423b15', 'dd0c...  \n",
              "273   ['0824933b-fbf9-4890-ada4-6f4c08325978', '690a...  \n",
              "...                                                 ...  \n",
              "2657  ['978ad17f-b8f5-4302-bea2-521657049ae4', 'e649...  \n",
              "3028  ['eb07c4e8-d938-4282-a4de-f938c7ff94fe', 'aa14...  \n",
              "3116  ['2d530985-5832-4bd9-b586-8bd300296807', 'bd9b...  \n",
              "3117  ['a77bc4a8-0c31-4dfe-9fb1-42d1fede61ff', '4099...  \n",
              "3127  ['5f7698b1-9a5a-4432-a057-eba06d01c061', '9d5c...  \n",
              "\n",
              "[64 rows x 8 columns]"
            ],
            "text/html": [
              "\n",
              "  <div id=\"df-3c9ee7be-08ee-4b1a-9059-0e8d6bf2b08d\" class=\"colab-df-container\">\n",
              "    <div>\n",
              "<style scoped>\n",
              "    .dataframe tbody tr th:only-of-type {\n",
              "        vertical-align: middle;\n",
              "    }\n",
              "\n",
              "    .dataframe tbody tr th {\n",
              "        vertical-align: top;\n",
              "    }\n",
              "\n",
              "    .dataframe thead th {\n",
              "        text-align: right;\n",
              "    }\n",
              "</style>\n",
              "<table border=\"1\" class=\"dataframe\">\n",
              "  <thead>\n",
              "    <tr style=\"text-align: right;\">\n",
              "      <th></th>\n",
              "      <th>sku</th>\n",
              "      <th>name</th>\n",
              "      <th>description</th>\n",
              "      <th>price</th>\n",
              "      <th>currency</th>\n",
              "      <th>terms</th>\n",
              "      <th>section</th>\n",
              "      <th>image_downloads</th>\n",
              "    </tr>\n",
              "  </thead>\n",
              "  <tbody>\n",
              "    <tr>\n",
              "      <th>81</th>\n",
              "      <td>336378923-700-2</td>\n",
              "      <td>NaN</td>\n",
              "      <td>NaN</td>\n",
              "      <td>129.0</td>\n",
              "      <td>USD</td>\n",
              "      <td>jackets</td>\n",
              "      <td>MAN</td>\n",
              "      <td>['7783d9a4-9913-4ac1-acb3-7b8d64ef1ac7', 'dc7e...</td>\n",
              "    </tr>\n",
              "    <tr>\n",
              "      <th>146</th>\n",
              "      <td>330734744-800-2</td>\n",
              "      <td>NaN</td>\n",
              "      <td>NaN</td>\n",
              "      <td>129.0</td>\n",
              "      <td>USD</td>\n",
              "      <td>jackets</td>\n",
              "      <td>MAN</td>\n",
              "      <td>['85e083c5-226c-4b18-a64a-39f931db9a71', 'f786...</td>\n",
              "    </tr>\n",
              "    <tr>\n",
              "      <th>256</th>\n",
              "      <td>329893545-800-2</td>\n",
              "      <td>NaN</td>\n",
              "      <td>NaN</td>\n",
              "      <td>69.9</td>\n",
              "      <td>USD</td>\n",
              "      <td>pants</td>\n",
              "      <td>MAN</td>\n",
              "      <td>['ca24a94e-c14b-4584-b5d3-a3b2295384ae', '0258...</td>\n",
              "    </tr>\n",
              "    <tr>\n",
              "      <th>272</th>\n",
              "      <td>335677693-800-2</td>\n",
              "      <td>NaN</td>\n",
              "      <td>NaN</td>\n",
              "      <td>49.9</td>\n",
              "      <td>USD</td>\n",
              "      <td>pants</td>\n",
              "      <td>MAN</td>\n",
              "      <td>['a75c7489-327a-408b-a904-9ba4d5423b15', 'dd0c...</td>\n",
              "    </tr>\n",
              "    <tr>\n",
              "      <th>273</th>\n",
              "      <td>326561477-826-2</td>\n",
              "      <td>NaN</td>\n",
              "      <td>NaN</td>\n",
              "      <td>49.9</td>\n",
              "      <td>USD</td>\n",
              "      <td>pants</td>\n",
              "      <td>MAN</td>\n",
              "      <td>['0824933b-fbf9-4890-ada4-6f4c08325978', '690a...</td>\n",
              "    </tr>\n",
              "    <tr>\n",
              "      <th>...</th>\n",
              "      <td>...</td>\n",
              "      <td>...</td>\n",
              "      <td>...</td>\n",
              "      <td>...</td>\n",
              "      <td>...</td>\n",
              "      <td>...</td>\n",
              "      <td>...</td>\n",
              "      <td>...</td>\n",
              "    </tr>\n",
              "    <tr>\n",
              "      <th>2657</th>\n",
              "      <td>320060926-807-35</td>\n",
              "      <td>NaN</td>\n",
              "      <td>NaN</td>\n",
              "      <td>49.9</td>\n",
              "      <td>USD</td>\n",
              "      <td>shoes</td>\n",
              "      <td>WOMAN</td>\n",
              "      <td>['978ad17f-b8f5-4302-bea2-521657049ae4', 'e649...</td>\n",
              "    </tr>\n",
              "    <tr>\n",
              "      <th>3028</th>\n",
              "      <td>331694122-800-1</td>\n",
              "      <td>NaN</td>\n",
              "      <td>NaN</td>\n",
              "      <td>45.9</td>\n",
              "      <td>USD</td>\n",
              "      <td>coats</td>\n",
              "      <td>WOMAN</td>\n",
              "      <td>['eb07c4e8-d938-4282-a4de-f938c7ff94fe', 'aa14...</td>\n",
              "    </tr>\n",
              "    <tr>\n",
              "      <th>3116</th>\n",
              "      <td>342922122-999-99</td>\n",
              "      <td>NaN</td>\n",
              "      <td>NaN</td>\n",
              "      <td>35.9</td>\n",
              "      <td>USD</td>\n",
              "      <td>bags</td>\n",
              "      <td>WOMAN</td>\n",
              "      <td>['2d530985-5832-4bd9-b586-8bd300296807', 'bd9b...</td>\n",
              "    </tr>\n",
              "    <tr>\n",
              "      <th>3117</th>\n",
              "      <td>336468928-303-3</td>\n",
              "      <td>NaN</td>\n",
              "      <td>NaN</td>\n",
              "      <td>17.9</td>\n",
              "      <td>USD</td>\n",
              "      <td>bags</td>\n",
              "      <td>WOMAN</td>\n",
              "      <td>['a77bc4a8-0c31-4dfe-9fb1-42d1fede61ff', '4099...</td>\n",
              "    </tr>\n",
              "    <tr>\n",
              "      <th>3127</th>\n",
              "      <td>326448329-999-99</td>\n",
              "      <td>NaN</td>\n",
              "      <td>NaN</td>\n",
              "      <td>27.9</td>\n",
              "      <td>USD</td>\n",
              "      <td>bags</td>\n",
              "      <td>WOMAN</td>\n",
              "      <td>['5f7698b1-9a5a-4432-a057-eba06d01c061', '9d5c...</td>\n",
              "    </tr>\n",
              "  </tbody>\n",
              "</table>\n",
              "<p>64 rows × 8 columns</p>\n",
              "</div>\n",
              "    <div class=\"colab-df-buttons\">\n",
              "\n",
              "  <div class=\"colab-df-container\">\n",
              "    <button class=\"colab-df-convert\" onclick=\"convertToInteractive('df-3c9ee7be-08ee-4b1a-9059-0e8d6bf2b08d')\"\n",
              "            title=\"Convert this dataframe to an interactive table.\"\n",
              "            style=\"display:none;\">\n",
              "\n",
              "  <svg xmlns=\"http://www.w3.org/2000/svg\" height=\"24px\" viewBox=\"0 -960 960 960\">\n",
              "    <path d=\"M120-120v-720h720v720H120Zm60-500h600v-160H180v160Zm220 220h160v-160H400v160Zm0 220h160v-160H400v160ZM180-400h160v-160H180v160Zm440 0h160v-160H620v160ZM180-180h160v-160H180v160Zm440 0h160v-160H620v160Z\"/>\n",
              "  </svg>\n",
              "    </button>\n",
              "\n",
              "  <style>\n",
              "    .colab-df-container {\n",
              "      display:flex;\n",
              "      gap: 12px;\n",
              "    }\n",
              "\n",
              "    .colab-df-convert {\n",
              "      background-color: #E8F0FE;\n",
              "      border: none;\n",
              "      border-radius: 50%;\n",
              "      cursor: pointer;\n",
              "      display: none;\n",
              "      fill: #1967D2;\n",
              "      height: 32px;\n",
              "      padding: 0 0 0 0;\n",
              "      width: 32px;\n",
              "    }\n",
              "\n",
              "    .colab-df-convert:hover {\n",
              "      background-color: #E2EBFA;\n",
              "      box-shadow: 0px 1px 2px rgba(60, 64, 67, 0.3), 0px 1px 3px 1px rgba(60, 64, 67, 0.15);\n",
              "      fill: #174EA6;\n",
              "    }\n",
              "\n",
              "    .colab-df-buttons div {\n",
              "      margin-bottom: 4px;\n",
              "    }\n",
              "\n",
              "    [theme=dark] .colab-df-convert {\n",
              "      background-color: #3B4455;\n",
              "      fill: #D2E3FC;\n",
              "    }\n",
              "\n",
              "    [theme=dark] .colab-df-convert:hover {\n",
              "      background-color: #434B5C;\n",
              "      box-shadow: 0px 1px 3px 1px rgba(0, 0, 0, 0.15);\n",
              "      filter: drop-shadow(0px 1px 2px rgba(0, 0, 0, 0.3));\n",
              "      fill: #FFFFFF;\n",
              "    }\n",
              "  </style>\n",
              "\n",
              "    <script>\n",
              "      const buttonEl =\n",
              "        document.querySelector('#df-3c9ee7be-08ee-4b1a-9059-0e8d6bf2b08d button.colab-df-convert');\n",
              "      buttonEl.style.display =\n",
              "        google.colab.kernel.accessAllowed ? 'block' : 'none';\n",
              "\n",
              "      async function convertToInteractive(key) {\n",
              "        const element = document.querySelector('#df-3c9ee7be-08ee-4b1a-9059-0e8d6bf2b08d');\n",
              "        const dataTable =\n",
              "          await google.colab.kernel.invokeFunction('convertToInteractive',\n",
              "                                                    [key], {});\n",
              "        if (!dataTable) return;\n",
              "\n",
              "        const docLinkHtml = 'Like what you see? Visit the ' +\n",
              "          '<a target=\"_blank\" href=https://colab.research.google.com/notebooks/data_table.ipynb>data table notebook</a>'\n",
              "          + ' to learn more about interactive tables.';\n",
              "        element.innerHTML = '';\n",
              "        dataTable['output_type'] = 'display_data';\n",
              "        await google.colab.output.renderOutput(dataTable, element);\n",
              "        const docLink = document.createElement('div');\n",
              "        docLink.innerHTML = docLinkHtml;\n",
              "        element.appendChild(docLink);\n",
              "      }\n",
              "    </script>\n",
              "  </div>\n",
              "\n",
              "\n",
              "<div id=\"df-844f2c13-96b9-4964-ad26-1cda7de33dac\">\n",
              "  <button class=\"colab-df-quickchart\" onclick=\"quickchart('df-844f2c13-96b9-4964-ad26-1cda7de33dac')\"\n",
              "            title=\"Suggest charts\"\n",
              "            style=\"display:none;\">\n",
              "\n",
              "<svg xmlns=\"http://www.w3.org/2000/svg\" height=\"24px\"viewBox=\"0 0 24 24\"\n",
              "     width=\"24px\">\n",
              "    <g>\n",
              "        <path d=\"M19 3H5c-1.1 0-2 .9-2 2v14c0 1.1.9 2 2 2h14c1.1 0 2-.9 2-2V5c0-1.1-.9-2-2-2zM9 17H7v-7h2v7zm4 0h-2V7h2v10zm4 0h-2v-4h2v4z\"/>\n",
              "    </g>\n",
              "</svg>\n",
              "  </button>\n",
              "\n",
              "<style>\n",
              "  .colab-df-quickchart {\n",
              "      --bg-color: #E8F0FE;\n",
              "      --fill-color: #1967D2;\n",
              "      --hover-bg-color: #E2EBFA;\n",
              "      --hover-fill-color: #174EA6;\n",
              "      --disabled-fill-color: #AAA;\n",
              "      --disabled-bg-color: #DDD;\n",
              "  }\n",
              "\n",
              "  [theme=dark] .colab-df-quickchart {\n",
              "      --bg-color: #3B4455;\n",
              "      --fill-color: #D2E3FC;\n",
              "      --hover-bg-color: #434B5C;\n",
              "      --hover-fill-color: #FFFFFF;\n",
              "      --disabled-bg-color: #3B4455;\n",
              "      --disabled-fill-color: #666;\n",
              "  }\n",
              "\n",
              "  .colab-df-quickchart {\n",
              "    background-color: var(--bg-color);\n",
              "    border: none;\n",
              "    border-radius: 50%;\n",
              "    cursor: pointer;\n",
              "    display: none;\n",
              "    fill: var(--fill-color);\n",
              "    height: 32px;\n",
              "    padding: 0;\n",
              "    width: 32px;\n",
              "  }\n",
              "\n",
              "  .colab-df-quickchart:hover {\n",
              "    background-color: var(--hover-bg-color);\n",
              "    box-shadow: 0 1px 2px rgba(60, 64, 67, 0.3), 0 1px 3px 1px rgba(60, 64, 67, 0.15);\n",
              "    fill: var(--button-hover-fill-color);\n",
              "  }\n",
              "\n",
              "  .colab-df-quickchart-complete:disabled,\n",
              "  .colab-df-quickchart-complete:disabled:hover {\n",
              "    background-color: var(--disabled-bg-color);\n",
              "    fill: var(--disabled-fill-color);\n",
              "    box-shadow: none;\n",
              "  }\n",
              "\n",
              "  .colab-df-spinner {\n",
              "    border: 2px solid var(--fill-color);\n",
              "    border-color: transparent;\n",
              "    border-bottom-color: var(--fill-color);\n",
              "    animation:\n",
              "      spin 1s steps(1) infinite;\n",
              "  }\n",
              "\n",
              "  @keyframes spin {\n",
              "    0% {\n",
              "      border-color: transparent;\n",
              "      border-bottom-color: var(--fill-color);\n",
              "      border-left-color: var(--fill-color);\n",
              "    }\n",
              "    20% {\n",
              "      border-color: transparent;\n",
              "      border-left-color: var(--fill-color);\n",
              "      border-top-color: var(--fill-color);\n",
              "    }\n",
              "    30% {\n",
              "      border-color: transparent;\n",
              "      border-left-color: var(--fill-color);\n",
              "      border-top-color: var(--fill-color);\n",
              "      border-right-color: var(--fill-color);\n",
              "    }\n",
              "    40% {\n",
              "      border-color: transparent;\n",
              "      border-right-color: var(--fill-color);\n",
              "      border-top-color: var(--fill-color);\n",
              "    }\n",
              "    60% {\n",
              "      border-color: transparent;\n",
              "      border-right-color: var(--fill-color);\n",
              "    }\n",
              "    80% {\n",
              "      border-color: transparent;\n",
              "      border-right-color: var(--fill-color);\n",
              "      border-bottom-color: var(--fill-color);\n",
              "    }\n",
              "    90% {\n",
              "      border-color: transparent;\n",
              "      border-bottom-color: var(--fill-color);\n",
              "    }\n",
              "  }\n",
              "</style>\n",
              "\n",
              "  <script>\n",
              "    async function quickchart(key) {\n",
              "      const quickchartButtonEl =\n",
              "        document.querySelector('#' + key + ' button');\n",
              "      quickchartButtonEl.disabled = true;  // To prevent multiple clicks.\n",
              "      quickchartButtonEl.classList.add('colab-df-spinner');\n",
              "      try {\n",
              "        const charts = await google.colab.kernel.invokeFunction(\n",
              "            'suggestCharts', [key], {});\n",
              "      } catch (error) {\n",
              "        console.error('Error during call to suggestCharts:', error);\n",
              "      }\n",
              "      quickchartButtonEl.classList.remove('colab-df-spinner');\n",
              "      quickchartButtonEl.classList.add('colab-df-quickchart-complete');\n",
              "    }\n",
              "    (() => {\n",
              "      let quickchartButtonEl =\n",
              "        document.querySelector('#df-844f2c13-96b9-4964-ad26-1cda7de33dac button');\n",
              "      quickchartButtonEl.style.display =\n",
              "        google.colab.kernel.accessAllowed ? 'block' : 'none';\n",
              "    })();\n",
              "  </script>\n",
              "</div>\n",
              "\n",
              "    </div>\n",
              "  </div>\n"
            ],
            "application/vnd.google.colaboratory.intrinsic+json": {
              "type": "dataframe",
              "repr_error": "0"
            }
          },
          "metadata": {},
          "execution_count": 23
        }
      ]
    },
    {
      "cell_type": "code",
      "source": [
        "#Check unique values in 'terms' columns\n",
        "csv_data['terms'].unique()"
      ],
      "metadata": {
        "colab": {
          "base_uri": "https://localhost:8080/"
        },
        "id": "bib29P1Y5v-L",
        "outputId": "15ed1585-c525-4af0-93a5-fb24a86ff3f0"
      },
      "id": "bib29P1Y5v-L",
      "execution_count": 24,
      "outputs": [
        {
          "output_type": "execute_result",
          "data": {
            "text/plain": [
              "array(['jackets', 'puffers', 'pants', 'jeans', 'sweaters', 'cardigans',\n",
              "       'hoodies', 'sweatshirts', 't-shirts', 'overshirts', 'linen',\n",
              "       'shorts', 'suits', 'blazers', 'tracksuits', 'coats', 'shoes',\n",
              "       'bags', 'dresses', 'skirts', 'tops', 'bodysuits', 'knitwear'],\n",
              "      dtype=object)"
            ]
          },
          "metadata": {},
          "execution_count": 24
        }
      ]
    },
    {
      "cell_type": "code",
      "source": [
        "#Collect indices of rows with no name or description\n",
        "blank_indices = csv_data[csv_data['name'].isnull()].index\n",
        "blank_indices"
      ],
      "metadata": {
        "colab": {
          "base_uri": "https://localhost:8080/"
        },
        "id": "wq0KF8sX5v6c",
        "outputId": "336f257f-39cf-456c-cbaf-027a2dd3a467"
      },
      "id": "wq0KF8sX5v6c",
      "execution_count": 25,
      "outputs": [
        {
          "output_type": "execute_result",
          "data": {
            "text/plain": [
              "Index([  81,  146,  256,  272,  273,  279,  513,  582,  707,  833, 1132, 1139,\n",
              "       1159, 1180, 1202, 1267, 1272, 1275, 1295, 1299, 1305, 1312, 1324, 1340,\n",
              "       1342, 1388, 1464, 1467, 1494, 1511, 1517, 1526, 1620, 1652, 1712, 1714,\n",
              "       1719, 1726, 1812, 1815, 1818, 1821, 1822, 1845, 1846, 1857, 1862, 2038,\n",
              "       2044, 2048, 2052, 2059, 2060, 2351, 2367, 2460, 2475, 2496, 2652, 2657,\n",
              "       3028, 3116, 3117, 3127],\n",
              "      dtype='int64')"
            ]
          },
          "metadata": {},
          "execution_count": 25
        }
      ]
    },
    {
      "cell_type": "code",
      "source": [
        "#Fill blan name dsecriptions with terms\n",
        "for idx in blank_indices:\n",
        "  csv_data.loc[idx,'name'] = csv_data.loc[idx,'terms']\n",
        "  csv_data.loc[idx,'description'] = csv_data.loc[idx,'terms']"
      ],
      "metadata": {
        "id": "ZPREYMoh9ILi"
      },
      "id": "ZPREYMoh9ILi",
      "execution_count": 26,
      "outputs": []
    },
    {
      "cell_type": "code",
      "source": [
        "blank_indices = list(blank_indices)\n",
        "\n",
        "csv_data.iloc[blank_indices]"
      ],
      "metadata": {
        "colab": {
          "base_uri": "https://localhost:8080/",
          "height": 423
        },
        "id": "IWH21TvR9IGm",
        "outputId": "c1764a8b-7e63-4a84-f8ee-69dddbdf29ea"
      },
      "id": "IWH21TvR9IGm",
      "execution_count": 27,
      "outputs": [
        {
          "output_type": "execute_result",
          "data": {
            "text/plain": [
              "                   sku     name description  price currency    terms section  \\\n",
              "81     336378923-700-2  jackets     jackets  129.0      USD  jackets     MAN   \n",
              "146    330734744-800-2  jackets     jackets  129.0      USD  jackets     MAN   \n",
              "256    329893545-800-2    pants       pants   69.9      USD    pants     MAN   \n",
              "272    335677693-800-2    pants       pants   49.9      USD    pants     MAN   \n",
              "273    326561477-826-2    pants       pants   49.9      USD    pants     MAN   \n",
              "...                ...      ...         ...    ...      ...      ...     ...   \n",
              "2657  320060926-807-35    shoes       shoes   49.9      USD    shoes   WOMAN   \n",
              "3028   331694122-800-1    coats       coats   45.9      USD    coats   WOMAN   \n",
              "3116  342922122-999-99     bags        bags   35.9      USD     bags   WOMAN   \n",
              "3117   336468928-303-3     bags        bags   17.9      USD     bags   WOMAN   \n",
              "3127  326448329-999-99     bags        bags   27.9      USD     bags   WOMAN   \n",
              "\n",
              "                                        image_downloads  \n",
              "81    ['7783d9a4-9913-4ac1-acb3-7b8d64ef1ac7', 'dc7e...  \n",
              "146   ['85e083c5-226c-4b18-a64a-39f931db9a71', 'f786...  \n",
              "256   ['ca24a94e-c14b-4584-b5d3-a3b2295384ae', '0258...  \n",
              "272   ['a75c7489-327a-408b-a904-9ba4d5423b15', 'dd0c...  \n",
              "273   ['0824933b-fbf9-4890-ada4-6f4c08325978', '690a...  \n",
              "...                                                 ...  \n",
              "2657  ['978ad17f-b8f5-4302-bea2-521657049ae4', 'e649...  \n",
              "3028  ['eb07c4e8-d938-4282-a4de-f938c7ff94fe', 'aa14...  \n",
              "3116  ['2d530985-5832-4bd9-b586-8bd300296807', 'bd9b...  \n",
              "3117  ['a77bc4a8-0c31-4dfe-9fb1-42d1fede61ff', '4099...  \n",
              "3127  ['5f7698b1-9a5a-4432-a057-eba06d01c061', '9d5c...  \n",
              "\n",
              "[64 rows x 8 columns]"
            ],
            "text/html": [
              "\n",
              "  <div id=\"df-f6cbe690-f7a9-45be-8930-738735efa955\" class=\"colab-df-container\">\n",
              "    <div>\n",
              "<style scoped>\n",
              "    .dataframe tbody tr th:only-of-type {\n",
              "        vertical-align: middle;\n",
              "    }\n",
              "\n",
              "    .dataframe tbody tr th {\n",
              "        vertical-align: top;\n",
              "    }\n",
              "\n",
              "    .dataframe thead th {\n",
              "        text-align: right;\n",
              "    }\n",
              "</style>\n",
              "<table border=\"1\" class=\"dataframe\">\n",
              "  <thead>\n",
              "    <tr style=\"text-align: right;\">\n",
              "      <th></th>\n",
              "      <th>sku</th>\n",
              "      <th>name</th>\n",
              "      <th>description</th>\n",
              "      <th>price</th>\n",
              "      <th>currency</th>\n",
              "      <th>terms</th>\n",
              "      <th>section</th>\n",
              "      <th>image_downloads</th>\n",
              "    </tr>\n",
              "  </thead>\n",
              "  <tbody>\n",
              "    <tr>\n",
              "      <th>81</th>\n",
              "      <td>336378923-700-2</td>\n",
              "      <td>jackets</td>\n",
              "      <td>jackets</td>\n",
              "      <td>129.0</td>\n",
              "      <td>USD</td>\n",
              "      <td>jackets</td>\n",
              "      <td>MAN</td>\n",
              "      <td>['7783d9a4-9913-4ac1-acb3-7b8d64ef1ac7', 'dc7e...</td>\n",
              "    </tr>\n",
              "    <tr>\n",
              "      <th>146</th>\n",
              "      <td>330734744-800-2</td>\n",
              "      <td>jackets</td>\n",
              "      <td>jackets</td>\n",
              "      <td>129.0</td>\n",
              "      <td>USD</td>\n",
              "      <td>jackets</td>\n",
              "      <td>MAN</td>\n",
              "      <td>['85e083c5-226c-4b18-a64a-39f931db9a71', 'f786...</td>\n",
              "    </tr>\n",
              "    <tr>\n",
              "      <th>256</th>\n",
              "      <td>329893545-800-2</td>\n",
              "      <td>pants</td>\n",
              "      <td>pants</td>\n",
              "      <td>69.9</td>\n",
              "      <td>USD</td>\n",
              "      <td>pants</td>\n",
              "      <td>MAN</td>\n",
              "      <td>['ca24a94e-c14b-4584-b5d3-a3b2295384ae', '0258...</td>\n",
              "    </tr>\n",
              "    <tr>\n",
              "      <th>272</th>\n",
              "      <td>335677693-800-2</td>\n",
              "      <td>pants</td>\n",
              "      <td>pants</td>\n",
              "      <td>49.9</td>\n",
              "      <td>USD</td>\n",
              "      <td>pants</td>\n",
              "      <td>MAN</td>\n",
              "      <td>['a75c7489-327a-408b-a904-9ba4d5423b15', 'dd0c...</td>\n",
              "    </tr>\n",
              "    <tr>\n",
              "      <th>273</th>\n",
              "      <td>326561477-826-2</td>\n",
              "      <td>pants</td>\n",
              "      <td>pants</td>\n",
              "      <td>49.9</td>\n",
              "      <td>USD</td>\n",
              "      <td>pants</td>\n",
              "      <td>MAN</td>\n",
              "      <td>['0824933b-fbf9-4890-ada4-6f4c08325978', '690a...</td>\n",
              "    </tr>\n",
              "    <tr>\n",
              "      <th>...</th>\n",
              "      <td>...</td>\n",
              "      <td>...</td>\n",
              "      <td>...</td>\n",
              "      <td>...</td>\n",
              "      <td>...</td>\n",
              "      <td>...</td>\n",
              "      <td>...</td>\n",
              "      <td>...</td>\n",
              "    </tr>\n",
              "    <tr>\n",
              "      <th>2657</th>\n",
              "      <td>320060926-807-35</td>\n",
              "      <td>shoes</td>\n",
              "      <td>shoes</td>\n",
              "      <td>49.9</td>\n",
              "      <td>USD</td>\n",
              "      <td>shoes</td>\n",
              "      <td>WOMAN</td>\n",
              "      <td>['978ad17f-b8f5-4302-bea2-521657049ae4', 'e649...</td>\n",
              "    </tr>\n",
              "    <tr>\n",
              "      <th>3028</th>\n",
              "      <td>331694122-800-1</td>\n",
              "      <td>coats</td>\n",
              "      <td>coats</td>\n",
              "      <td>45.9</td>\n",
              "      <td>USD</td>\n",
              "      <td>coats</td>\n",
              "      <td>WOMAN</td>\n",
              "      <td>['eb07c4e8-d938-4282-a4de-f938c7ff94fe', 'aa14...</td>\n",
              "    </tr>\n",
              "    <tr>\n",
              "      <th>3116</th>\n",
              "      <td>342922122-999-99</td>\n",
              "      <td>bags</td>\n",
              "      <td>bags</td>\n",
              "      <td>35.9</td>\n",
              "      <td>USD</td>\n",
              "      <td>bags</td>\n",
              "      <td>WOMAN</td>\n",
              "      <td>['2d530985-5832-4bd9-b586-8bd300296807', 'bd9b...</td>\n",
              "    </tr>\n",
              "    <tr>\n",
              "      <th>3117</th>\n",
              "      <td>336468928-303-3</td>\n",
              "      <td>bags</td>\n",
              "      <td>bags</td>\n",
              "      <td>17.9</td>\n",
              "      <td>USD</td>\n",
              "      <td>bags</td>\n",
              "      <td>WOMAN</td>\n",
              "      <td>['a77bc4a8-0c31-4dfe-9fb1-42d1fede61ff', '4099...</td>\n",
              "    </tr>\n",
              "    <tr>\n",
              "      <th>3127</th>\n",
              "      <td>326448329-999-99</td>\n",
              "      <td>bags</td>\n",
              "      <td>bags</td>\n",
              "      <td>27.9</td>\n",
              "      <td>USD</td>\n",
              "      <td>bags</td>\n",
              "      <td>WOMAN</td>\n",
              "      <td>['5f7698b1-9a5a-4432-a057-eba06d01c061', '9d5c...</td>\n",
              "    </tr>\n",
              "  </tbody>\n",
              "</table>\n",
              "<p>64 rows × 8 columns</p>\n",
              "</div>\n",
              "    <div class=\"colab-df-buttons\">\n",
              "\n",
              "  <div class=\"colab-df-container\">\n",
              "    <button class=\"colab-df-convert\" onclick=\"convertToInteractive('df-f6cbe690-f7a9-45be-8930-738735efa955')\"\n",
              "            title=\"Convert this dataframe to an interactive table.\"\n",
              "            style=\"display:none;\">\n",
              "\n",
              "  <svg xmlns=\"http://www.w3.org/2000/svg\" height=\"24px\" viewBox=\"0 -960 960 960\">\n",
              "    <path d=\"M120-120v-720h720v720H120Zm60-500h600v-160H180v160Zm220 220h160v-160H400v160Zm0 220h160v-160H400v160ZM180-400h160v-160H180v160Zm440 0h160v-160H620v160ZM180-180h160v-160H180v160Zm440 0h160v-160H620v160Z\"/>\n",
              "  </svg>\n",
              "    </button>\n",
              "\n",
              "  <style>\n",
              "    .colab-df-container {\n",
              "      display:flex;\n",
              "      gap: 12px;\n",
              "    }\n",
              "\n",
              "    .colab-df-convert {\n",
              "      background-color: #E8F0FE;\n",
              "      border: none;\n",
              "      border-radius: 50%;\n",
              "      cursor: pointer;\n",
              "      display: none;\n",
              "      fill: #1967D2;\n",
              "      height: 32px;\n",
              "      padding: 0 0 0 0;\n",
              "      width: 32px;\n",
              "    }\n",
              "\n",
              "    .colab-df-convert:hover {\n",
              "      background-color: #E2EBFA;\n",
              "      box-shadow: 0px 1px 2px rgba(60, 64, 67, 0.3), 0px 1px 3px 1px rgba(60, 64, 67, 0.15);\n",
              "      fill: #174EA6;\n",
              "    }\n",
              "\n",
              "    .colab-df-buttons div {\n",
              "      margin-bottom: 4px;\n",
              "    }\n",
              "\n",
              "    [theme=dark] .colab-df-convert {\n",
              "      background-color: #3B4455;\n",
              "      fill: #D2E3FC;\n",
              "    }\n",
              "\n",
              "    [theme=dark] .colab-df-convert:hover {\n",
              "      background-color: #434B5C;\n",
              "      box-shadow: 0px 1px 3px 1px rgba(0, 0, 0, 0.15);\n",
              "      filter: drop-shadow(0px 1px 2px rgba(0, 0, 0, 0.3));\n",
              "      fill: #FFFFFF;\n",
              "    }\n",
              "  </style>\n",
              "\n",
              "    <script>\n",
              "      const buttonEl =\n",
              "        document.querySelector('#df-f6cbe690-f7a9-45be-8930-738735efa955 button.colab-df-convert');\n",
              "      buttonEl.style.display =\n",
              "        google.colab.kernel.accessAllowed ? 'block' : 'none';\n",
              "\n",
              "      async function convertToInteractive(key) {\n",
              "        const element = document.querySelector('#df-f6cbe690-f7a9-45be-8930-738735efa955');\n",
              "        const dataTable =\n",
              "          await google.colab.kernel.invokeFunction('convertToInteractive',\n",
              "                                                    [key], {});\n",
              "        if (!dataTable) return;\n",
              "\n",
              "        const docLinkHtml = 'Like what you see? Visit the ' +\n",
              "          '<a target=\"_blank\" href=https://colab.research.google.com/notebooks/data_table.ipynb>data table notebook</a>'\n",
              "          + ' to learn more about interactive tables.';\n",
              "        element.innerHTML = '';\n",
              "        dataTable['output_type'] = 'display_data';\n",
              "        await google.colab.output.renderOutput(dataTable, element);\n",
              "        const docLink = document.createElement('div');\n",
              "        docLink.innerHTML = docLinkHtml;\n",
              "        element.appendChild(docLink);\n",
              "      }\n",
              "    </script>\n",
              "  </div>\n",
              "\n",
              "\n",
              "<div id=\"df-79bef6f5-d530-4603-914e-73eb76aee539\">\n",
              "  <button class=\"colab-df-quickchart\" onclick=\"quickchart('df-79bef6f5-d530-4603-914e-73eb76aee539')\"\n",
              "            title=\"Suggest charts\"\n",
              "            style=\"display:none;\">\n",
              "\n",
              "<svg xmlns=\"http://www.w3.org/2000/svg\" height=\"24px\"viewBox=\"0 0 24 24\"\n",
              "     width=\"24px\">\n",
              "    <g>\n",
              "        <path d=\"M19 3H5c-1.1 0-2 .9-2 2v14c0 1.1.9 2 2 2h14c1.1 0 2-.9 2-2V5c0-1.1-.9-2-2-2zM9 17H7v-7h2v7zm4 0h-2V7h2v10zm4 0h-2v-4h2v4z\"/>\n",
              "    </g>\n",
              "</svg>\n",
              "  </button>\n",
              "\n",
              "<style>\n",
              "  .colab-df-quickchart {\n",
              "      --bg-color: #E8F0FE;\n",
              "      --fill-color: #1967D2;\n",
              "      --hover-bg-color: #E2EBFA;\n",
              "      --hover-fill-color: #174EA6;\n",
              "      --disabled-fill-color: #AAA;\n",
              "      --disabled-bg-color: #DDD;\n",
              "  }\n",
              "\n",
              "  [theme=dark] .colab-df-quickchart {\n",
              "      --bg-color: #3B4455;\n",
              "      --fill-color: #D2E3FC;\n",
              "      --hover-bg-color: #434B5C;\n",
              "      --hover-fill-color: #FFFFFF;\n",
              "      --disabled-bg-color: #3B4455;\n",
              "      --disabled-fill-color: #666;\n",
              "  }\n",
              "\n",
              "  .colab-df-quickchart {\n",
              "    background-color: var(--bg-color);\n",
              "    border: none;\n",
              "    border-radius: 50%;\n",
              "    cursor: pointer;\n",
              "    display: none;\n",
              "    fill: var(--fill-color);\n",
              "    height: 32px;\n",
              "    padding: 0;\n",
              "    width: 32px;\n",
              "  }\n",
              "\n",
              "  .colab-df-quickchart:hover {\n",
              "    background-color: var(--hover-bg-color);\n",
              "    box-shadow: 0 1px 2px rgba(60, 64, 67, 0.3), 0 1px 3px 1px rgba(60, 64, 67, 0.15);\n",
              "    fill: var(--button-hover-fill-color);\n",
              "  }\n",
              "\n",
              "  .colab-df-quickchart-complete:disabled,\n",
              "  .colab-df-quickchart-complete:disabled:hover {\n",
              "    background-color: var(--disabled-bg-color);\n",
              "    fill: var(--disabled-fill-color);\n",
              "    box-shadow: none;\n",
              "  }\n",
              "\n",
              "  .colab-df-spinner {\n",
              "    border: 2px solid var(--fill-color);\n",
              "    border-color: transparent;\n",
              "    border-bottom-color: var(--fill-color);\n",
              "    animation:\n",
              "      spin 1s steps(1) infinite;\n",
              "  }\n",
              "\n",
              "  @keyframes spin {\n",
              "    0% {\n",
              "      border-color: transparent;\n",
              "      border-bottom-color: var(--fill-color);\n",
              "      border-left-color: var(--fill-color);\n",
              "    }\n",
              "    20% {\n",
              "      border-color: transparent;\n",
              "      border-left-color: var(--fill-color);\n",
              "      border-top-color: var(--fill-color);\n",
              "    }\n",
              "    30% {\n",
              "      border-color: transparent;\n",
              "      border-left-color: var(--fill-color);\n",
              "      border-top-color: var(--fill-color);\n",
              "      border-right-color: var(--fill-color);\n",
              "    }\n",
              "    40% {\n",
              "      border-color: transparent;\n",
              "      border-right-color: var(--fill-color);\n",
              "      border-top-color: var(--fill-color);\n",
              "    }\n",
              "    60% {\n",
              "      border-color: transparent;\n",
              "      border-right-color: var(--fill-color);\n",
              "    }\n",
              "    80% {\n",
              "      border-color: transparent;\n",
              "      border-right-color: var(--fill-color);\n",
              "      border-bottom-color: var(--fill-color);\n",
              "    }\n",
              "    90% {\n",
              "      border-color: transparent;\n",
              "      border-bottom-color: var(--fill-color);\n",
              "    }\n",
              "  }\n",
              "</style>\n",
              "\n",
              "  <script>\n",
              "    async function quickchart(key) {\n",
              "      const quickchartButtonEl =\n",
              "        document.querySelector('#' + key + ' button');\n",
              "      quickchartButtonEl.disabled = true;  // To prevent multiple clicks.\n",
              "      quickchartButtonEl.classList.add('colab-df-spinner');\n",
              "      try {\n",
              "        const charts = await google.colab.kernel.invokeFunction(\n",
              "            'suggestCharts', [key], {});\n",
              "      } catch (error) {\n",
              "        console.error('Error during call to suggestCharts:', error);\n",
              "      }\n",
              "      quickchartButtonEl.classList.remove('colab-df-spinner');\n",
              "      quickchartButtonEl.classList.add('colab-df-quickchart-complete');\n",
              "    }\n",
              "    (() => {\n",
              "      let quickchartButtonEl =\n",
              "        document.querySelector('#df-79bef6f5-d530-4603-914e-73eb76aee539 button');\n",
              "      quickchartButtonEl.style.display =\n",
              "        google.colab.kernel.accessAllowed ? 'block' : 'none';\n",
              "    })();\n",
              "  </script>\n",
              "</div>\n",
              "\n",
              "    </div>\n",
              "  </div>\n"
            ],
            "application/vnd.google.colaboratory.intrinsic+json": {
              "type": "dataframe",
              "summary": "{\n  \"name\": \"csv_data\",\n  \"rows\": 64,\n  \"fields\": [\n    {\n      \"column\": \"sku\",\n      \"properties\": {\n        \"dtype\": \"string\",\n        \"num_unique_values\": 64,\n        \"samples\": [\n          \"334407850-044-1\",\n          \"320060927-070-35\",\n          \"336378923-700-2\"\n        ],\n        \"semantic_type\": \"\",\n        \"description\": \"\"\n      }\n    },\n    {\n      \"column\": \"name\",\n      \"properties\": {\n        \"dtype\": \"category\",\n        \"num_unique_values\": 14,\n        \"samples\": [\n          \"sweaters\",\n          \"jeans\",\n          \"jackets\"\n        ],\n        \"semantic_type\": \"\",\n        \"description\": \"\"\n      }\n    },\n    {\n      \"column\": \"description\",\n      \"properties\": {\n        \"dtype\": \"category\",\n        \"num_unique_values\": 14,\n        \"samples\": [\n          \"sweaters\",\n          \"jeans\",\n          \"jackets\"\n        ],\n        \"semantic_type\": \"\",\n        \"description\": \"\"\n      }\n    },\n    {\n      \"column\": \"price\",\n      \"properties\": {\n        \"dtype\": \"number\",\n        \"std\": 24.80626795911718,\n        \"min\": 17.9,\n        \"max\": 139.0,\n        \"num_unique_values\": 14,\n        \"samples\": [\n          139.0,\n          17.9,\n          129.0\n        ],\n        \"semantic_type\": \"\",\n        \"description\": \"\"\n      }\n    },\n    {\n      \"column\": \"currency\",\n      \"properties\": {\n        \"dtype\": \"category\",\n        \"num_unique_values\": 1,\n        \"samples\": [\n          \"USD\"\n        ],\n        \"semantic_type\": \"\",\n        \"description\": \"\"\n      }\n    },\n    {\n      \"column\": \"terms\",\n      \"properties\": {\n        \"dtype\": \"category\",\n        \"num_unique_values\": 14,\n        \"samples\": [\n          \"sweaters\"\n        ],\n        \"semantic_type\": \"\",\n        \"description\": \"\"\n      }\n    },\n    {\n      \"column\": \"section\",\n      \"properties\": {\n        \"dtype\": \"category\",\n        \"num_unique_values\": 2,\n        \"samples\": [\n          \"WOMAN\"\n        ],\n        \"semantic_type\": \"\",\n        \"description\": \"\"\n      }\n    },\n    {\n      \"column\": \"image_downloads\",\n      \"properties\": {\n        \"dtype\": \"string\",\n        \"num_unique_values\": 64,\n        \"samples\": [\n          \"['f4ecfc77-0560-465e-aabe-11f8fe7f4f84', '2e283880-08e2-4083-87e5-58f89af3f2df', 'e3a43028-98c5-4a61-bbc0-81b7897b0014', 'c86e33ac-7afb-4b69-8929-2ef1053458e2', '6afdf45d-1682-4e8d-a16a-b4d85fb8642f', '37b8a03a-1cf8-4e65-80e1-61fe56fe1a9f', '8e1431f9-6618-4511-9814-c5590f571395', 'c01dffdc-be69-4eff-aa15-b3a925f66192']\"\n        ],\n        \"semantic_type\": \"\",\n        \"description\": \"\"\n      }\n    }\n  ]\n}"
            }
          },
          "metadata": {},
          "execution_count": 27
        }
      ]
    },
    {
      "cell_type": "code",
      "source": [
        "#Check null values again\n",
        "csv_data.isnull().sum()"
      ],
      "metadata": {
        "colab": {
          "base_uri": "https://localhost:8080/",
          "height": 335
        },
        "id": "hb-HrMhh9H_D",
        "outputId": "c50cb9d3-a7c4-46c2-9f3b-27471aa16c66"
      },
      "id": "hb-HrMhh9H_D",
      "execution_count": 28,
      "outputs": [
        {
          "output_type": "execute_result",
          "data": {
            "text/plain": [
              "sku                0\n",
              "name               0\n",
              "description        6\n",
              "price              0\n",
              "currency           0\n",
              "terms              0\n",
              "section            0\n",
              "image_downloads    0\n",
              "dtype: int64"
            ],
            "text/html": [
              "<div>\n",
              "<style scoped>\n",
              "    .dataframe tbody tr th:only-of-type {\n",
              "        vertical-align: middle;\n",
              "    }\n",
              "\n",
              "    .dataframe tbody tr th {\n",
              "        vertical-align: top;\n",
              "    }\n",
              "\n",
              "    .dataframe thead th {\n",
              "        text-align: right;\n",
              "    }\n",
              "</style>\n",
              "<table border=\"1\" class=\"dataframe\">\n",
              "  <thead>\n",
              "    <tr style=\"text-align: right;\">\n",
              "      <th></th>\n",
              "      <th>0</th>\n",
              "    </tr>\n",
              "  </thead>\n",
              "  <tbody>\n",
              "    <tr>\n",
              "      <th>sku</th>\n",
              "      <td>0</td>\n",
              "    </tr>\n",
              "    <tr>\n",
              "      <th>name</th>\n",
              "      <td>0</td>\n",
              "    </tr>\n",
              "    <tr>\n",
              "      <th>description</th>\n",
              "      <td>6</td>\n",
              "    </tr>\n",
              "    <tr>\n",
              "      <th>price</th>\n",
              "      <td>0</td>\n",
              "    </tr>\n",
              "    <tr>\n",
              "      <th>currency</th>\n",
              "      <td>0</td>\n",
              "    </tr>\n",
              "    <tr>\n",
              "      <th>terms</th>\n",
              "      <td>0</td>\n",
              "    </tr>\n",
              "    <tr>\n",
              "      <th>section</th>\n",
              "      <td>0</td>\n",
              "    </tr>\n",
              "    <tr>\n",
              "      <th>image_downloads</th>\n",
              "      <td>0</td>\n",
              "    </tr>\n",
              "  </tbody>\n",
              "</table>\n",
              "</div><br><label><b>dtype:</b> int64</label>"
            ]
          },
          "metadata": {},
          "execution_count": 28
        }
      ]
    },
    {
      "cell_type": "code",
      "source": [
        "#Save modified data frame\n",
        "csv_data.to_csv('/content/drive/MyDrive/MIT 805 Semester Project/store_zara_modified.csv',index=False)"
      ],
      "metadata": {
        "id": "olWQUq4X9Hrk"
      },
      "id": "olWQUq4X9Hrk",
      "execution_count": null,
      "outputs": []
    },
    {
      "cell_type": "markdown",
      "source": [
        "# **Processing**\n",
        "\n",
        "In this section of the notebook, two computations are performed using PySpark.The first computation reads in the modified store_zara_modified.csv file and expands the data frame by spliting the images stored as lists in the 'image_downloads' column into seperate rows. This was required in order to create the visualization shown later.\n",
        "\n",
        "The second PySpark computation is used to process the 25000 images of the various fashion items. The images are read into an RDD before performing a transformation on the data to determine the brightness of each image. The resulting output is then saved to a data frame which in turn is saved as a CSV file. This CSV file will be combined with the CSV file obtained in the pre-processing to create the visualizations of interest"
      ],
      "metadata": {
        "id": "xwCE8zXi5DeS"
      },
      "id": "xwCE8zXi5DeS"
    },
    {
      "cell_type": "markdown",
      "source": [
        "**Set-up Spark Session**"
      ],
      "metadata": {
        "id": "E0iy7sdaEUgv"
      },
      "id": "E0iy7sdaEUgv"
    },
    {
      "cell_type": "code",
      "execution_count": 4,
      "id": "d77b47d5",
      "metadata": {
        "colab": {
          "base_uri": "https://localhost:8080/"
        },
        "id": "d77b47d5",
        "outputId": "3c258a5a-29bd-4ed1-d83f-196b386d7d97"
      },
      "outputs": [
        {
          "output_type": "stream",
          "name": "stdout",
          "text": [
            "Collecting pyspark\n",
            "  Downloading pyspark-3.5.3.tar.gz (317.3 MB)\n",
            "\u001b[2K     \u001b[90m━━━━━━━━━━━━━━━━━━━━━━━━━━━━━━━━━━━━━━━━\u001b[0m \u001b[32m317.3/317.3 MB\u001b[0m \u001b[31m1.4 MB/s\u001b[0m eta \u001b[36m0:00:00\u001b[0m\n",
            "\u001b[?25h  Preparing metadata (setup.py) ... \u001b[?25l\u001b[?25hdone\n",
            "Requirement already satisfied: py4j==0.10.9.7 in /usr/local/lib/python3.10/dist-packages (from pyspark) (0.10.9.7)\n",
            "Building wheels for collected packages: pyspark\n",
            "  Building wheel for pyspark (setup.py) ... \u001b[?25l\u001b[?25hdone\n",
            "  Created wheel for pyspark: filename=pyspark-3.5.3-py2.py3-none-any.whl size=317840625 sha256=a5a82f9826d7f781b5a85f98d12ae1d48b5c72089986206c3e9f169cb04770d8\n",
            "  Stored in directory: /root/.cache/pip/wheels/1b/3a/92/28b93e2fbfdbb07509ca4d6f50c5e407f48dce4ddbda69a4ab\n",
            "Successfully built pyspark\n",
            "Installing collected packages: pyspark\n",
            "Successfully installed pyspark-3.5.3\n"
          ]
        }
      ],
      "source": [
        "!pip install pyspark"
      ]
    },
    {
      "cell_type": "code",
      "source": [
        "from pyspark.sql import SparkSession\n",
        "from pyspark.sql import *\n",
        "from pyspark.sql.functions import *\n",
        "from pyspark.sql.types import *\n",
        "from PIL import Image\n",
        "import os\n",
        "import sys"
      ],
      "metadata": {
        "id": "XR9UfV_ZrBs5"
      },
      "id": "XR9UfV_ZrBs5",
      "execution_count": 5,
      "outputs": []
    },
    {
      "cell_type": "code",
      "source": [
        "#Create spark session\n",
        "spark = SparkSession.builder \\\n",
        "    .appName(\"mySparkApp\") \\\n",
        "    .config(\"spark.driver.memory\", \"10g\")\\\n",
        "    .getOrCreate()"
      ],
      "metadata": {
        "id": "iazm6e6KBV4B"
      },
      "id": "iazm6e6KBV4B",
      "execution_count": null,
      "outputs": []
    },
    {
      "cell_type": "code",
      "source": [
        "# Get driver memory configuration\n",
        "driver_memory = spark.conf.get(\"spark.driver.memory\")\n",
        "print(f\"Driver Memory: {driver_memory}\")"
      ],
      "metadata": {
        "colab": {
          "base_uri": "https://localhost:8080/"
        },
        "id": "vvb1ppuuBVfi",
        "outputId": "a0e85f54-8ed1-4656-a124-a278d86ade87"
      },
      "id": "vvb1ppuuBVfi",
      "execution_count": null,
      "outputs": [
        {
          "output_type": "stream",
          "name": "stdout",
          "text": [
            "Driver Memory: 10g\n"
          ]
        }
      ]
    },
    {
      "cell_type": "code",
      "source": [
        "#Configure environment variable path\n",
        "os.environ['PYSPARK_PYTHON'] = sys.executable\n",
        "os.environ['PYSPARK_DRIVER_PYTHON'] = sys.executable"
      ],
      "metadata": {
        "id": "OOT_Ht9VBbDn"
      },
      "id": "OOT_Ht9VBbDn",
      "execution_count": null,
      "outputs": []
    },
    {
      "cell_type": "markdown",
      "source": [
        "**First Computation: CSV file Processing**"
      ],
      "metadata": {
        "id": "hPMoCNWRAjL_"
      },
      "id": "hPMoCNWRAjL_"
    },
    {
      "cell_type": "code",
      "source": [
        "#Read in modified csv file from pre-processing\n",
        "csv_path = '/content/drive/MyDrive/MIT 805 Semester Project/store_zara_modified.csv'\n",
        "df1 = spark.read.csv(csv_path, header=True, inferSchema=True)"
      ],
      "metadata": {
        "id": "DiZXVnFpAd4q"
      },
      "id": "DiZXVnFpAd4q",
      "execution_count": null,
      "outputs": []
    },
    {
      "cell_type": "code",
      "source": [
        "df1.show(5)"
      ],
      "metadata": {
        "colab": {
          "base_uri": "https://localhost:8080/"
        },
        "id": "n5iJMD-eAd0x",
        "outputId": "22ddf264-f640-45a9-c840-4b2bb36d806c"
      },
      "id": "n5iJMD-eAd0x",
      "execution_count": null,
      "outputs": [
        {
          "output_type": "stream",
          "name": "stdout",
          "text": [
            "+----------------+--------------------+--------------------+-----+--------+-------+-------+--------------------+\n",
            "|             sku|                name|         description|price|currency|  terms|section|     image_downloads|\n",
            "+----------------+--------------------+--------------------+-----+--------+-------+-------+--------------------+\n",
            "| 272145190-250-2| BASIC PUFFER JACKET|Puffer jacket mad...|19.99|     USD|jackets|    MAN|['e8e4ae57-8b72-4...|\n",
            "|324052738-800-46|       TUXEDO JACKET|Straight fit blaz...|169.0|     USD|jackets|    MAN|['b42b0725-cfe2-4...|\n",
            "|335342680-800-44|SLIM FIT SUIT JACKET|Slim fit jacket. ...|129.0|     USD|jackets|    MAN|['c27bdddf-2f9c-4...|\n",
            "|328303236-420-44| STRETCH SUIT JACKET|Slim fit jacket m...|129.0|     USD|jackets|    MAN|['0cbc84c8-f9ff-4...|\n",
            "| 312368260-800-2| DOUBLE FACED JACKET|Jacket made of fa...|139.0|     USD|jackets|    MAN|['1ccc9c87-49c9-4...|\n",
            "+----------------+--------------------+--------------------+-----+--------+-------+-------+--------------------+\n",
            "only showing top 5 rows\n",
            "\n"
          ]
        }
      ]
    },
    {
      "cell_type": "code",
      "source": [
        "#Check schema for df1\n",
        "df1.printSchema()"
      ],
      "metadata": {
        "colab": {
          "base_uri": "https://localhost:8080/"
        },
        "id": "1j1AxeIuAdxJ",
        "outputId": "c9688637-afdd-46b5-d87d-b4151a54e38b"
      },
      "id": "1j1AxeIuAdxJ",
      "execution_count": null,
      "outputs": [
        {
          "output_type": "stream",
          "name": "stdout",
          "text": [
            "root\n",
            " |-- sku: string (nullable = true)\n",
            " |-- name: string (nullable = true)\n",
            " |-- description: string (nullable = true)\n",
            " |-- price: string (nullable = true)\n",
            " |-- currency: string (nullable = true)\n",
            " |-- terms: string (nullable = true)\n",
            " |-- section: string (nullable = true)\n",
            " |-- image_downloads: string (nullable = true)\n",
            "\n"
          ]
        }
      ]
    },
    {
      "cell_type": "code",
      "source": [
        "#Convert price and image_downloads columns to correct format\n",
        "df1 = df1.withColumn(\"price\", df1[\"price\"].cast(\"float\"))\\\n",
        "      .withColumn(\"image_downloads\", split(df1[\"image_downloads\"], \",\"))"
      ],
      "metadata": {
        "id": "TRQz5OYmAdt6"
      },
      "id": "TRQz5OYmAdt6",
      "execution_count": null,
      "outputs": []
    },
    {
      "cell_type": "code",
      "source": [
        "df1.show(5)"
      ],
      "metadata": {
        "colab": {
          "base_uri": "https://localhost:8080/"
        },
        "id": "5ZJ41tDLAdtE",
        "outputId": "bff8c07c-777f-4cb8-dd43-3e7c222d14b3"
      },
      "id": "5ZJ41tDLAdtE",
      "execution_count": null,
      "outputs": [
        {
          "output_type": "stream",
          "name": "stdout",
          "text": [
            "+----------------+--------------------+--------------------+-----+--------+-------+-------+--------------------+\n",
            "|             sku|                name|         description|price|currency|  terms|section|     image_downloads|\n",
            "+----------------+--------------------+--------------------+-----+--------+-------+-------+--------------------+\n",
            "| 272145190-250-2| BASIC PUFFER JACKET|Puffer jacket mad...|19.99|     USD|jackets|    MAN|[['e8e4ae57-8b72-...|\n",
            "|324052738-800-46|       TUXEDO JACKET|Straight fit blaz...|169.0|     USD|jackets|    MAN|[['b42b0725-cfe2-...|\n",
            "|335342680-800-44|SLIM FIT SUIT JACKET|Slim fit jacket. ...|129.0|     USD|jackets|    MAN|[['c27bdddf-2f9c-...|\n",
            "|328303236-420-44| STRETCH SUIT JACKET|Slim fit jacket m...|129.0|     USD|jackets|    MAN|[['0cbc84c8-f9ff-...|\n",
            "| 312368260-800-2| DOUBLE FACED JACKET|Jacket made of fa...|139.0|     USD|jackets|    MAN|[['1ccc9c87-49c9-...|\n",
            "+----------------+--------------------+--------------------+-----+--------+-------+-------+--------------------+\n",
            "only showing top 5 rows\n",
            "\n"
          ]
        }
      ]
    },
    {
      "cell_type": "code",
      "source": [
        "#Expand each list in the image_downloads column to store each image name as a string in a row of its own\n",
        "df1 = df1.withColumn(\"image_downloads\", explode(col(\"image_downloads\")))\n",
        "#Remove square brackets from image names\n",
        "df1 = df1.withColumn(\"image_downloads\", regexp_replace(col(\"image_downloads\"), \"\\\\[\", \"\"))\n",
        "df1 = df1.withColumn(\"image_downloads\", regexp_replace(col(\"image_downloads\"), \"\\\\]\", \"\"))"
      ],
      "metadata": {
        "id": "FPfxDs9kAdpY"
      },
      "id": "FPfxDs9kAdpY",
      "execution_count": null,
      "outputs": []
    },
    {
      "cell_type": "code",
      "source": [
        "df1.show(5)"
      ],
      "metadata": {
        "colab": {
          "base_uri": "https://localhost:8080/"
        },
        "id": "MOe0fITZAdgQ",
        "outputId": "0a5b3655-5ef8-4b25-8b58-88c000f50d65"
      },
      "id": "MOe0fITZAdgQ",
      "execution_count": null,
      "outputs": [
        {
          "output_type": "stream",
          "name": "stdout",
          "text": [
            "+---------------+-------------------+--------------------+-----+--------+-------+-------+--------------------+\n",
            "|            sku|               name|         description|price|currency|  terms|section|     image_downloads|\n",
            "+---------------+-------------------+--------------------+-----+--------+-------+-------+--------------------+\n",
            "|272145190-250-2|BASIC PUFFER JACKET|Puffer jacket mad...|19.99|     USD|jackets|    MAN|'e8e4ae57-8b72-44...|\n",
            "|272145190-250-2|BASIC PUFFER JACKET|Puffer jacket mad...|19.99|     USD|jackets|    MAN| '0cb3791f-ebc3-4...|\n",
            "|272145190-250-2|BASIC PUFFER JACKET|Puffer jacket mad...|19.99|     USD|jackets|    MAN| '6831411d-91a5-4...|\n",
            "|272145190-250-2|BASIC PUFFER JACKET|Puffer jacket mad...|19.99|     USD|jackets|    MAN| '184c9f8e-4765-4...|\n",
            "|272145190-250-2|BASIC PUFFER JACKET|Puffer jacket mad...|19.99|     USD|jackets|    MAN| '037c90a2-abef-4...|\n",
            "+---------------+-------------------+--------------------+-----+--------+-------+-------+--------------------+\n",
            "only showing top 5 rows\n",
            "\n"
          ]
        }
      ]
    },
    {
      "cell_type": "code",
      "source": [
        "#save df1 as csv file\n",
        "df1.write.csv(\"/content/drive/MyDrive/MIT 805 Semester Project/store_zara_modified_expanded.csv\", header=True)"
      ],
      "metadata": {
        "id": "G-3Lw_u8DJJ9"
      },
      "id": "G-3Lw_u8DJJ9",
      "execution_count": null,
      "outputs": []
    },
    {
      "cell_type": "code",
      "source": [
        "# Stop Spark session\n",
        "spark.stop()"
      ],
      "metadata": {
        "id": "pQYO1payIAM7"
      },
      "id": "pQYO1payIAM7",
      "execution_count": null,
      "outputs": []
    },
    {
      "cell_type": "markdown",
      "source": [
        "**Second Computation: Image Processing**"
      ],
      "metadata": {
        "id": "776C0MiZEitf"
      },
      "id": "776C0MiZEitf"
    },
    {
      "cell_type": "markdown",
      "source": [
        "In order to process the images, two custom functions are defined:\n",
        "\n",
        "1.   calculate_brightenss: This function calculates the brightness of each image by converting the image to gray scale and calculating a bit-scale value for the brightness of the image\n",
        "2.   process_image: This function reads in each image,calculates its brightness using the calculate_brightness function and returns this as a row with the image name in the first column and brightness in the second column\n",
        "\n"
      ],
      "metadata": {
        "id": "okJDmP91Eq0I"
      },
      "id": "okJDmP91Eq0I"
    },
    {
      "cell_type": "code",
      "source": [
        "#Create spark session\n",
        "spark = SparkSession.builder \\\n",
        "    .appName(\"mySparkApp\") \\\n",
        "    .config(\"spark.driver.memory\", \"10g\")\\\n",
        "    .getOrCreate()"
      ],
      "metadata": {
        "id": "eII6ZPk2IIBV"
      },
      "id": "eII6ZPk2IIBV",
      "execution_count": 6,
      "outputs": []
    },
    {
      "cell_type": "code",
      "source": [
        "#Configure ebvironment variable path\n",
        "os.environ['PYSPARK_PYTHON'] = sys.executable\n",
        "os.environ['PYSPARK_DRIVER_PYTHON'] = sys.executable"
      ],
      "metadata": {
        "id": "nJsLqRgRKyb4"
      },
      "id": "nJsLqRgRKyb4",
      "execution_count": 7,
      "outputs": []
    },
    {
      "cell_type": "code",
      "source": [
        "#Function to calculate brightness of an image\n",
        "def calculate_brightness(image):\n",
        "    image_array = np.array(image)\n",
        "    pixel_values = image_array.flatten()\n",
        "    # Convert list to NumPy array for calculation\n",
        "    total_brightness = np.sum(pixel_values)\n",
        "    num_pixels = len(pixel_values)\n",
        "    #Prevent division by 0\n",
        "    if num_pixels == 0:\n",
        "        return 0.0\n",
        "    else:\n",
        "        return total_brightness / num_pixels\n",
        "\n",
        "#Function to process image and return its brightness\n",
        "def process_image(image_path):\n",
        "    with Image.open(image_path) as img:\n",
        "      brightness = calculate_brightness(img)\n",
        "      return (image_path, brightness)\n",
        "\n",
        ""
      ],
      "metadata": {
        "id": "xFDeG6CwXDhn"
      },
      "id": "xFDeG6CwXDhn",
      "execution_count": 8,
      "outputs": []
    },
    {
      "cell_type": "code",
      "execution_count": 9,
      "id": "ac4cc02b",
      "metadata": {
        "id": "ac4cc02b"
      },
      "outputs": [],
      "source": [
        "# Create path to images folder\n",
        "images_folder = \"/content/drive/MyDrive/MIT 805 Semester Project/zara_images\""
      ]
    },
    {
      "cell_type": "code",
      "execution_count": 10,
      "id": "39b27706",
      "metadata": {
        "id": "39b27706"
      },
      "outputs": [],
      "source": [
        "# Store the names of each image file in a list\n",
        "image_files = [os.path.join(images_folder, f) for f in os.listdir(images_folder) if f.endswith(('.png', '.jpg', '.jpeg'))]"
      ]
    },
    {
      "cell_type": "code",
      "source": [
        "#Check result\n",
        "image_files[0:5]"
      ],
      "metadata": {
        "colab": {
          "base_uri": "https://localhost:8080/"
        },
        "id": "tKH45OHPMLYa",
        "outputId": "2a044206-7fc5-4287-dcd6-5447ef3ef90c"
      },
      "id": "tKH45OHPMLYa",
      "execution_count": 11,
      "outputs": [
        {
          "output_type": "execute_result",
          "data": {
            "text/plain": [
              "['/content/drive/MyDrive/MIT 805 Semester Project/zara_images/f5b4a03a-7bcc-4482-9f61-9a845121c778.jpg',\n",
              " '/content/drive/MyDrive/MIT 805 Semester Project/zara_images/f5bd6c38-0577-4a4c-ad1c-d5ad55a9fc0d.jpg',\n",
              " '/content/drive/MyDrive/MIT 805 Semester Project/zara_images/f5b7ca89-7c4d-49d0-941a-1ce7b2c55a73.jpg',\n",
              " '/content/drive/MyDrive/MIT 805 Semester Project/zara_images/f587e1b4-6176-4f7a-b8b0-79ce80a90d16.jpg',\n",
              " '/content/drive/MyDrive/MIT 805 Semester Project/zara_images/f5a9a810-11f5-40b1-9a06-8e164387d91e.jpg']"
            ]
          },
          "metadata": {},
          "execution_count": 11
        }
      ]
    },
    {
      "cell_type": "code",
      "execution_count": 12,
      "id": "e9e3cc33",
      "metadata": {
        "id": "e9e3cc33",
        "outputId": "ed38fa09-8f9a-4e75-aa57-d3d903119b14",
        "colab": {
          "base_uri": "https://localhost:8080/"
        }
      },
      "outputs": [
        {
          "output_type": "execute_result",
          "data": {
            "text/plain": [
              "25134"
            ]
          },
          "metadata": {},
          "execution_count": 12
        }
      ],
      "source": [
        "len(image_files)"
      ]
    },
    {
      "cell_type": "code",
      "execution_count": 13,
      "id": "44a34360",
      "metadata": {
        "id": "44a34360"
      },
      "outputs": [],
      "source": [
        "# Create RDD from list of images and set number of partitions to 10\n",
        "num_partitions = 10  # Adjust based on your environment\n",
        "rdd = spark.sparkContext.parallelize(image_files, num_partitions)\n",
        "#Create RDD transformation for obtaining brightness of each image using the process_image function defined above\n",
        "results = rdd.map(process_image)"
      ]
    },
    {
      "cell_type": "code",
      "source": [
        "schema = StructType([\n",
        "    StructField(\"filename\", StringType(), True),\n",
        "    StructField(\"brightness\", FloatType(), True)  # Define brightness as FloatType\n",
        "])"
      ],
      "metadata": {
        "id": "QqX_nlsyT-Gm"
      },
      "id": "QqX_nlsyT-Gm",
      "execution_count": 14,
      "outputs": []
    },
    {
      "cell_type": "code",
      "source": [
        "# Trigger spark action to execute transformations: Convert RDD to DataFrame\n",
        "df2 = spark.createDataFrame(results.map(lambda row: (row[0], float(row[1]))), schema=schema)\n",
        "#df2 = df2.withColumn(\"brightness\", col(\"brightness\").cast(FloatType()))\n",
        "df2.show(5)"
      ],
      "metadata": {
        "colab": {
          "base_uri": "https://localhost:8080/"
        },
        "id": "SqIu-ecqUaku",
        "outputId": "c71e70da-939c-4743-b8dc-20cb6c1bbb3d"
      },
      "id": "SqIu-ecqUaku",
      "execution_count": 16,
      "outputs": [
        {
          "output_type": "stream",
          "name": "stdout",
          "text": [
            "+--------------------+----------+\n",
            "|            filename|brightness|\n",
            "+--------------------+----------+\n",
            "|/content/drive/My...| 168.65302|\n",
            "|/content/drive/My...|  191.0412|\n",
            "|/content/drive/My...|  8.155149|\n",
            "|/content/drive/My...| 191.99742|\n",
            "|/content/drive/My...|  85.51321|\n",
            "+--------------------+----------+\n",
            "only showing top 5 rows\n",
            "\n"
          ]
        }
      ]
    },
    {
      "cell_type": "code",
      "source": [
        "#Save resulting data frame as a csv file\n",
        "df2.write.csv(\"/content/drive/MyDrive/MIT 805 Semester Project/image_processing_output\", header=True)"
      ],
      "metadata": {
        "id": "hdnNfCXvhLJv"
      },
      "id": "hdnNfCXvhLJv",
      "execution_count": 19,
      "outputs": []
    }
  ],
  "metadata": {
    "kernelspec": {
      "display_name": "Python 3 (ipykernel)",
      "language": "python",
      "name": "python3"
    },
    "language_info": {
      "codemirror_mode": {
        "name": "ipython",
        "version": 3
      },
      "file_extension": ".py",
      "mimetype": "text/x-python",
      "name": "python",
      "nbconvert_exporter": "python",
      "pygments_lexer": "ipython3",
      "version": "3.10.8"
    },
    "colab": {
      "provenance": [],
      "include_colab_link": true
    }
  },
  "nbformat": 4,
  "nbformat_minor": 5
}